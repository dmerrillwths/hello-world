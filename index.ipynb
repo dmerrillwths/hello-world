{
 "cells": [
  {
   "cell_type": "markdown",
   "metadata": {},
   "source": [
    "This is a basic index file."
    "We will show the projects we are working on in this area.
   ]
  }
